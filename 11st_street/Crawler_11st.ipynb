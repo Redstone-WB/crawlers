{
 "cells": [
  {
   "cell_type": "markdown",
   "metadata": {},
   "source": [
    "# 11번가 crawler\n",
    "\n",
    "- 출처\n",
    "    1. Selenium : https://beomi.github.io/2017/02/27/HowToMakeWebCrawler-With-Selenium/\n",
    "    2. 이미지/동영상 가져오기 : https://blog.naver.com/PostView.nhn?blogId=kiddwannabe&logNo=221358581642&categoryNo=35&parentCategoryNo=0&viewDate=&currentPage=1&postListTopCurrentPage=1&from=postView&userTopListOpen=true&userTopListCount=5&userTopListManageOpen=false&userTopListCurrentPage=1\n",
    "    3. BeautifulSoap : https://blog.naver.com/PostView.nhn?blogId=kiddwannabe&logNo=221177292446&parentCategoryNo=&categoryNo=35&viewDate=&isShowPopularPosts=false&from=postView"
   ]
  },
  {
   "cell_type": "code",
   "execution_count": 10,
   "metadata": {
    "scrolled": true
   },
   "outputs": [],
   "source": [
    "#!pip3 install selenium\n",
    "#!pip3 install bs4"
   ]
  },
  {
   "cell_type": "code",
   "execution_count": 11,
   "metadata": {},
   "outputs": [],
   "source": [
    "from selenium import webdriver\n",
    "from bs4 import BeautifulSoup"
   ]
  },
  {
   "cell_type": "code",
   "execution_count": 4,
   "metadata": {},
   "outputs": [],
   "source": [
    "driver = webdriver.Chrome('//Users/sktelecom/Documents/GitHub/crawlers/chromedriver')"
   ]
  },
  {
   "cell_type": "code",
   "execution_count": 5,
   "metadata": {},
   "outputs": [],
   "source": [
    "# 암묵적으로 웹 자원 로드를 위해 3초까지 기다려 준다.\n",
    "driver.implicitly_wait(3)"
   ]
  },
  {
   "cell_type": "code",
   "execution_count": 18,
   "metadata": {},
   "outputs": [],
   "source": [
    "# 특정 URL로 브라우저를 켜는 부분. 아디다스 도복 페이지\n",
    "driver.get('http://www.11st.co.kr/product/SellerProductDetail.tmall?method=getSellerProductDetail&prdNo=2064276476&trTypeCd=21&trCtgrNo=585021&lCtgrNo=1001390&mCtgrNo=1002164')"
   ]
  },
  {
   "cell_type": "markdown",
   "metadata": {},
   "source": [
    "### Selenium 자체 제공 함수\n",
    "\n",
    "- URL에 접근하는 api,\n",
    "    1. get(‘http://url.com’)\n",
    "- 페이지의 단일 element에 접근하는 api,\n",
    "    1. find_element_by_name(‘HTML_name’)\n",
    "    2. find_element_by_id(‘HTML_id’)\n",
    "    3. find_element_by_xpath(‘/html/body/some/xpath’)\n",
    "- 페이지의 여러 elements에 접근하는 api 등이 있다.\n",
    "    1. find_element_by_css_selector(‘#css > div.selector’)\n",
    "    2. find_element_by_class_name(‘some_class_name’)\n",
    "    3. find_element_by_tag_name(‘h1’)\n",
    "\n",
    "위 메소드들을 활용시 HTML을 브라우저에서 파싱해주기 때문에 굳이 Python와 BeautifulSoup을 사용하지 않아도 된다.\n",
    "하지만 Selenium에 내장된 함수만 사용가능하기 때문에 좀더 사용이 편리한 soup객체를 이용하려면 driver.page_source API를 이용해 현재 렌더링 된 페이지의 Elements를 모두 가져올 수 있다."
   ]
  },
  {
   "cell_type": "code",
   "execution_count": 19,
   "metadata": {},
   "outputs": [],
   "source": [
    "page = driver.page_source"
   ]
  },
  {
   "cell_type": "code",
   "execution_count": 22,
   "metadata": {},
   "outputs": [],
   "source": [
    "#page"
   ]
  },
  {
   "cell_type": "code",
   "execution_count": 23,
   "metadata": {},
   "outputs": [],
   "source": [
    "soup = BeautifulSoup(page, 'html.parser')"
   ]
  },
  {
   "cell_type": "code",
   "execution_count": 47,
   "metadata": {
    "scrolled": true
   },
   "outputs": [],
   "source": [
    "product_name = soup.select('title')[0]"
   ]
  },
  {
   "cell_type": "code",
   "execution_count": 48,
   "metadata": {},
   "outputs": [],
   "source": [
    "product_price = soup.select('strong.num')[4]"
   ]
  },
  {
   "cell_type": "code",
   "execution_count": 54,
   "metadata": {},
   "outputs": [],
   "source": [
    "product_info = soup.select('script.var')"
   ]
  },
  {
   "cell_type": "code",
   "execution_count": 55,
   "metadata": {},
   "outputs": [
    {
     "data": {
      "text/plain": [
       "[]"
      ]
     },
     "execution_count": 55,
     "metadata": {},
     "output_type": "execute_result"
    }
   ],
   "source": [
    "product_info"
   ]
  },
  {
   "cell_type": "code",
   "execution_count": 43,
   "metadata": {
    "scrolled": true
   },
   "outputs": [
    {
     "data": {
      "text/plain": [
       "<strong class=\"num\">199,230</strong>"
      ]
     },
     "execution_count": 43,
     "metadata": {},
     "output_type": "execute_result"
    }
   ],
   "source": []
  },
  {
   "cell_type": "code",
   "execution_count": 49,
   "metadata": {},
   "outputs": [
    {
     "name": "stdout",
     "output_type": "stream",
     "text": [
      "<title>주짓수 도복 IBJJF CHAMPION JJ601B 2.0 BURE/ 아디다스(의류) - 11번가</title>\n",
      "<strong class=\"num\">199,230</strong>\n"
     ]
    }
   ],
   "source": [
    "print(product_name)\n",
    "print(product_price)"
   ]
  },
  {
   "cell_type": "markdown",
   "metadata": {},
   "source": [
    "### 위의 string에 rule을 걸어 전처리해주고, 필요 정보만 뽑아 내면 끝!"
   ]
  }
 ],
 "metadata": {
  "kernelspec": {
   "display_name": "Python 3",
   "language": "python",
   "name": "python3"
  },
  "language_info": {
   "codemirror_mode": {
    "name": "ipython",
    "version": 3
   },
   "file_extension": ".py",
   "mimetype": "text/x-python",
   "name": "python",
   "nbconvert_exporter": "python",
   "pygments_lexer": "ipython3",
   "version": "3.7.4"
  }
 },
 "nbformat": 4,
 "nbformat_minor": 2
}
